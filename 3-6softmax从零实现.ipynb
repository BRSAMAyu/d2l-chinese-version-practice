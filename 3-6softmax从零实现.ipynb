{
 "cells": [
  {
   "metadata": {
    "ExecuteTime": {
     "end_time": "2025-08-06T11:13:23.879469Z",
     "start_time": "2025-08-06T11:13:23.827790Z"
    }
   },
   "cell_type": "code",
   "source": [
    "import torch\n",
    "from IPython import display\n",
    "from d2l import torch as d2l\n",
    "\n",
    "batch_size = 256\n",
    "train_iter,test_iter = d2l.load_data_fashion_mnist(batch_size)"
   ],
   "id": "e73c22421d65067f",
   "outputs": [],
   "execution_count": 61
  },
  {
   "metadata": {},
   "cell_type": "markdown",
   "source": [
    "train_iter, test_iter = d2l.load_data_fashion_mnist(batch_size):\n",
    "这是数据准备的核心步骤。d2l.load_data_fashion_mnist 是一个高级封装函数，它在幕后完成了多项工作：\n",
    "下载数据集: 如果本地没有 Fashion-MNIST 数据集，它会自动从网上下载。\n",
    "数据预处理: 它会将图像数据从原始的 PIL 图像格式或 NumPy 数组转换为 PyTorch 的 Tensor 格式。同时，它会将像素值从 [0, 255] 的整数范围归一化到 [0, 1] 的浮点数范围，这是神经网络训练的标准实践。\n",
    "创建数据迭代器 (Data Loader): 函数返回两个对象：train_iter 和 test_iter。它们是 PyTorch DataLoader 的实例，可以看作是高效的数据管道。当我们从 train_iter 中请求数据时，它会按顺序（或随机打乱后）吐出一个包含 batch_size (256) 个图像张量和对应标签张量的批次。test_iter 的功能类似，但用于测试数据集。"
   ],
   "id": "6dcd8c913dde5ece"
  },
  {
   "metadata": {
    "ExecuteTime": {
     "end_time": "2025-08-06T11:13:23.897748Z",
     "start_time": "2025-08-06T11:13:23.891284Z"
    }
   },
   "cell_type": "code",
   "source": [
    "num_inputs = 784\n",
    "num_outputs = 10\n",
    "#输出维度\n",
    "W = torch.normal(0, 0.01, size=(num_inputs, num_outputs), requires_grad=True)\n",
    "b = torch.zeros(num_outputs, requires_grad=True)"
   ],
   "id": "8508baa89da1521a",
   "outputs": [],
   "execution_count": 62
  },
  {
   "metadata": {},
   "cell_type": "markdown",
   "source": "全连接层的输入必须是一维的，因此需要进行展平",
   "id": "a0a649857ad7e102"
  },
  {
   "metadata": {
    "ExecuteTime": {
     "end_time": "2025-08-06T11:13:23.917314Z",
     "start_time": "2025-08-06T11:13:23.912257Z"
    }
   },
   "cell_type": "code",
   "source": [
    "X = torch.tensor([[1.0, 2.0, 3.0], [4.0, 5.0, 6.0]])\n",
    "X.sum(0, keepdim=True), X.sum(1, keepdim=True)"
   ],
   "id": "43bc1828e932431f",
   "outputs": [
    {
     "data": {
      "text/plain": [
       "(tensor([[5., 7., 9.]]),\n",
       " tensor([[ 6.],\n",
       "         [15.]]))"
      ]
     },
     "execution_count": 63,
     "metadata": {},
     "output_type": "execute_result"
    }
   ],
   "execution_count": 63
  },
  {
   "metadata": {
    "ExecuteTime": {
     "end_time": "2025-08-06T11:13:23.936002Z",
     "start_time": "2025-08-06T11:13:23.933487Z"
    }
   },
   "cell_type": "code",
   "source": [
    "def softmax(X):\n",
    "    X_exp = torch.exp(X)\n",
    "    partition = X_exp.sum(1, keepdim=True)\n",
    "    return X_exp / partition  # 这里应用了广播机制"
   ],
   "id": "31a4838c812071f4",
   "outputs": [],
   "execution_count": 64
  },
  {
   "metadata": {
    "ExecuteTime": {
     "end_time": "2025-08-06T11:13:23.954317Z",
     "start_time": "2025-08-06T11:13:23.949650Z"
    }
   },
   "cell_type": "code",
   "source": [
    "X = torch.normal(0, 1, (2, 5))\n",
    "X_prob = softmax(X)\n",
    "X_prob, X_prob.sum(1)"
   ],
   "id": "296f4a4eba66d5c9",
   "outputs": [
    {
     "data": {
      "text/plain": [
       "(tensor([[0.0876, 0.2692, 0.5243, 0.0785, 0.0404],\n",
       "         [0.0970, 0.0651, 0.0993, 0.7041, 0.0346]]),\n",
       " tensor([1., 1.]))"
      ]
     },
     "execution_count": 65,
     "metadata": {},
     "output_type": "execute_result"
    }
   ],
   "execution_count": 65
  },
  {
   "metadata": {
    "ExecuteTime": {
     "end_time": "2025-08-06T11:13:23.972165Z",
     "start_time": "2025-08-06T11:13:23.970091Z"
    }
   },
   "cell_type": "code",
   "source": [
    "def net(X):\n",
    "    return softmax(torch.matmul(X.reshape((-1, W.shape[0])), W) + b)"
   ],
   "id": "fbbb30415978b1df",
   "outputs": [],
   "execution_count": 66
  },
  {
   "metadata": {
    "ExecuteTime": {
     "end_time": "2025-08-06T11:13:23.991614Z",
     "start_time": "2025-08-06T11:13:23.985449Z"
    }
   },
   "cell_type": "code",
   "source": [
    "y = torch.tensor([0, 2])\n",
    "y_hat = torch.tensor([[0.1, 0.3, 0.6], [0.3, 0.2, 0.5]])\n",
    "y_hat[[0, 1], y]"
   ],
   "id": "b3dc5f01d3bb1d78",
   "outputs": [
    {
     "data": {
      "text/plain": [
       "tensor([0.1000, 0.5000])"
      ]
     },
     "execution_count": 67,
     "metadata": {},
     "output_type": "execute_result"
    }
   ],
   "execution_count": 67
  },
  {
   "metadata": {
    "ExecuteTime": {
     "end_time": "2025-08-06T11:13:24.010128Z",
     "start_time": "2025-08-06T11:13:24.005407Z"
    }
   },
   "cell_type": "code",
   "source": [
    "def cross_entropy(y_hat, y):\n",
    "    return - torch.log(y_hat[range(len(y_hat)), y])\n",
    "\n",
    "cross_entropy(y_hat, y)"
   ],
   "id": "44114297351e6a77",
   "outputs": [
    {
     "data": {
      "text/plain": [
       "tensor([2.3026, 0.6931])"
      ]
     },
     "execution_count": 68,
     "metadata": {},
     "output_type": "execute_result"
    }
   ],
   "execution_count": 68
  },
  {
   "metadata": {
    "ExecuteTime": {
     "end_time": "2025-08-06T11:13:24.034441Z",
     "start_time": "2025-08-06T11:13:24.031766Z"
    }
   },
   "cell_type": "code",
   "source": [
    "def accuracy(y_hat, y):  #@save\n",
    "    \"\"\"计算预测正确的数量\"\"\"\n",
    "    if len(y_hat.shape) > 1 and y_hat.shape[1] > 1:\n",
    "        y_hat = y_hat.argmax(axis=1)\n",
    "    cmp = y_hat.type(y.dtype) == y  #进行类型转换确保健壮\n",
    "    return float(cmp.type(y.dtype).sum())"
   ],
   "id": "d072aa49ecd7c86d",
   "outputs": [],
   "execution_count": 69
  },
  {
   "metadata": {},
   "cell_type": "markdown",
   "source": "cmp为布尔类型的张量，最后转换为数值类型并求和，从而得到的数就是总共正确的数量",
   "id": "e38f9685bd8303b7"
  },
  {
   "metadata": {},
   "cell_type": "markdown",
   "source": [
    "准确率是作为评估（给人看的）\n",
    "而交叉熵作为损失函数是给机器看的，需要可微（能够反向传播）"
   ],
   "id": "edf7180d8e7a60da"
  },
  {
   "metadata": {
    "ExecuteTime": {
     "end_time": "2025-08-06T11:13:24.050124Z",
     "start_time": "2025-08-06T11:13:24.046477Z"
    }
   },
   "cell_type": "code",
   "source": "accuracy(y_hat, y) / len(y)",
   "id": "507d955413f85f31",
   "outputs": [
    {
     "data": {
      "text/plain": [
       "0.5"
      ]
     },
     "execution_count": 70,
     "metadata": {},
     "output_type": "execute_result"
    }
   ],
   "execution_count": 70
  },
  {
   "metadata": {
    "ExecuteTime": {
     "end_time": "2025-08-06T11:13:24.067904Z",
     "start_time": "2025-08-06T11:13:24.065089Z"
    }
   },
   "cell_type": "code",
   "source": [
    "def evaluate_accuracy(net, data_iter):  #@save\n",
    "    \"\"\"计算在指定数据集上模型的精度\"\"\"\n",
    "    if isinstance(net, torch.nn.Module):\n",
    "        net.eval()  # 将模型设置为评估模式\n",
    "    metric = Accumulator(2)  # 正确预测数、预测总数\n",
    "    with torch.no_grad():\n",
    "        for X, y in data_iter:\n",
    "            metric.add(accuracy(net(X), y), y.numel())\n",
    "    return metric[0] / metric[1]"
   ],
   "id": "bf65eb4d5aa9cf19",
   "outputs": [],
   "execution_count": 71
  },
  {
   "metadata": {},
   "cell_type": "markdown",
   "source": [
    "net.eval(): 这是非常关键的一步。 它将模型切换到“评估模式”（Evaluation Mode）。这会影响一些在训练和预测时行为不同的层，主要是：\n",
    "Dropout 层: 在评估模式下会被禁用。如果在评估时还随机丢弃神经元，会导致结果不稳定且偏低。\n",
    "BatchNorm (批量归一化) 层: 在评估模式下，它会使用在整个训练过程中学习到的均值和方差，而不是使用当前批次数据的均值和方差。这保证了评估结果的一致性。\n",
    "总之，不调用 net.eval() 会导致评估结果不准确、不可复现，是一个常见的错误。\n",
    "\n",
    "with torch.no_grad():: 这是另一个至关重要的步骤。 它创建了一个上下文管理器，在该代码块中，PyTorch 将不会计算梯度。\n",
    "为什么需要它？\n",
    "提升性能: 在模型评估时，我们只进行前向传播（Forward Pass），不需要计算梯度来进行反向传播和参数更新。关闭梯度计算可以大大减少内存消耗和计算时间，让评估过程更快。\n",
    "保证正确性: 它明确告诉框架，这里的操作不应影响模型的梯度状态。"
   ],
   "id": "aaca40858d35e654"
  },
  {
   "metadata": {
    "ExecuteTime": {
     "end_time": "2025-08-06T11:13:24.081149Z",
     "start_time": "2025-08-06T11:13:24.078725Z"
    }
   },
   "cell_type": "code",
   "source": [
    "class Accumulator:  #@save\n",
    "    \"\"\"在n个变量上累加\"\"\"\n",
    "    def __init__(self, n):\n",
    "        self.data = [0.0] * n\n",
    "\n",
    "    def add(self, *args):\n",
    "        self.data = [a + float(b) for a, b in zip(self.data, args)]\n",
    "\n",
    "    def reset(self):\n",
    "        self.data = [0.0] * len(self.data)\n",
    "\n",
    "    def __getitem__(self, idx):\n",
    "        return self.data[idx]"
   ],
   "id": "6119942284a486a4",
   "outputs": [],
   "execution_count": 72
  },
  {
   "metadata": {
    "ExecuteTime": {
     "end_time": "2025-08-06T11:13:25.617219Z",
     "start_time": "2025-08-06T11:13:24.093356Z"
    }
   },
   "cell_type": "code",
   "source": "evaluate_accuracy(net, test_iter)",
   "id": "c5eb53ef03939bfc",
   "outputs": [
    {
     "data": {
      "text/plain": [
       "0.1136"
      ]
     },
     "execution_count": 73,
     "metadata": {},
     "output_type": "execute_result"
    }
   ],
   "execution_count": 73
  },
  {
   "metadata": {
    "ExecuteTime": {
     "end_time": "2025-08-06T11:13:25.636646Z",
     "start_time": "2025-08-06T11:13:25.631633Z"
    }
   },
   "cell_type": "code",
   "source": [
    "def train_epoch_ch3(net, train_iter, loss, updater):  #@save\n",
    "    \"\"\"训练模型一个迭代周期（定义见第3章）\"\"\"\n",
    "    # 将模型设置为训练模式\n",
    "    if isinstance(net, torch.nn.Module):\n",
    "        net.train()\n",
    "    # 训练损失总和、训练准确度总和、样本数\n",
    "    metric = Accumulator(3)\n",
    "    for X, y in train_iter:\n",
    "        # 计算梯度并更新参数\n",
    "        y_hat = net(X)\n",
    "        l = loss(y_hat, y)\n",
    "        if isinstance(updater, torch.optim.Optimizer):\n",
    "            # 使用PyTorch内置的优化器和损失函数\n",
    "            updater.zero_grad()# 清除上一批次计算得到的梯度。这是一个必须的步骤，因为梯度是会累加的。\n",
    "            l.mean().backward() #反向传播\n",
    "            updater.step()\n",
    "        else:\n",
    "            # 使用定制的优化器和损失函数\n",
    "            l.sum().backward()\n",
    "            '''这里使用 .sum() 是因为我们自定义的损失函数可能返回每个样本的损失，需要将它们加起来计算总的梯度。'''\n",
    "            updater(X.shape[0])\n",
    "        metric.add(float(l.sum()), accuracy(y_hat, y), y.numel())\n",
    "    # 返回训练损失和训练精度\n",
    "    return metric[0] / metric[2], metric[1] / metric[2]"
   ],
   "id": "cc2ba87340f48ad3",
   "outputs": [],
   "execution_count": 74
  },
  {
   "metadata": {
    "ExecuteTime": {
     "end_time": "2025-08-06T11:13:25.653577Z",
     "start_time": "2025-08-06T11:13:25.646784Z"
    }
   },
   "cell_type": "code",
   "source": [
    "class Animator:  #@save\n",
    "    \"\"\"在动画中绘制数据\"\"\"\n",
    "    def __init__(self, xlabel=None, ylabel=None, legend=None, xlim=None,\n",
    "                 ylim=None, xscale='linear', yscale='linear',\n",
    "                 fmts=('-', 'm--', 'g-.', 'r:'), nrows=1, ncols=1,\n",
    "                 figsize=(3.5, 2.5)):\n",
    "        # 增量地绘制多条线\n",
    "        if legend is None:\n",
    "            legend = []\n",
    "        d2l.use_svg_display()\n",
    "        self.fig, self.axes = d2l.plt.subplots(nrows, ncols, figsize=figsize)\n",
    "        if nrows * ncols == 1:\n",
    "            self.axes = [self.axes, ]\n",
    "        # 使用lambda函数捕获参数\n",
    "        self.config_axes = lambda: d2l.set_axes(\n",
    "            self.axes[0], xlabel, ylabel, xlim, ylim, xscale, yscale, legend)\n",
    "        self.X, self.Y, self.fmts = None, None, fmts\n",
    "\n",
    "    def add(self, x, y):\n",
    "        # 向图表中添加多个数据点\n",
    "        if not hasattr(y, \"__len__\"):\n",
    "            y = [y]\n",
    "        n = len(y)\n",
    "        if not hasattr(x, \"__len__\"):\n",
    "            x = [x] * n\n",
    "        if not self.X:\n",
    "            self.X = [[] for _ in range(n)]\n",
    "        if not self.Y:\n",
    "            self.Y = [[] for _ in range(n)]\n",
    "        for i, (a, b) in enumerate(zip(x, y)):\n",
    "            if a is not None and b is not None:\n",
    "                self.X[i].append(a)\n",
    "                self.Y[i].append(b)\n",
    "        self.axes[0].cla()\n",
    "        for x, y, fmt in zip(self.X, self.Y, self.fmts):\n",
    "            self.axes[0].plot(x, y, fmt)\n",
    "        self.config_axes()\n",
    "        display.display(self.fig)\n",
    "        display.clear_output(wait=True)\n"
   ],
   "id": "e3af2bba2f7cf5e5",
   "outputs": [],
   "execution_count": 75
  },
  {
   "metadata": {
    "ExecuteTime": {
     "end_time": "2025-08-06T11:13:25.664901Z",
     "start_time": "2025-08-06T11:13:25.661627Z"
    }
   },
   "cell_type": "code",
   "source": [
    "def train_ch3(net, train_iter, test_iter, loss, num_epochs, updater):  #@save\n",
    "    \"\"\"训练模型（定义见第3章）\"\"\"\n",
    "    animator = Animator(xlabel='epoch', xlim=[1, num_epochs], ylim=[0.3, 0.9],\n",
    "                        legend=['train loss', 'train acc', 'test acc'])\n",
    "    for epoch in range(num_epochs):\n",
    "        train_metrics = train_epoch_ch3(net, train_iter, loss, updater)\n",
    "        test_acc = evaluate_accuracy(net, test_iter)\n",
    "        animator.add(epoch + 1, train_metrics + (test_acc,))\n",
    "    train_loss, train_acc = train_metrics\n",
    "    assert train_loss < 0.5, train_loss\n",
    "    assert train_acc <= 1 and train_acc > 0.7, train_acc\n",
    "    assert test_acc <= 1 and test_acc > 0.7, test_acc"
   ],
   "id": "cdb0f75acf4489ab",
   "outputs": [],
   "execution_count": 76
  },
  {
   "metadata": {
    "ExecuteTime": {
     "end_time": "2025-08-06T11:13:25.679796Z",
     "start_time": "2025-08-06T11:13:25.677644Z"
    }
   },
   "cell_type": "code",
   "source": [
    "lr = 0.1\n",
    "\n",
    "def updater(batch_size):\n",
    "    return d2l.sgd([W, b], lr, batch_size)"
   ],
   "id": "d281fdbce0b867f1",
   "outputs": [],
   "execution_count": 77
  },
  {
   "metadata": {},
   "cell_type": "code",
   "source": [
    "num_epochs = 10\n",
    "train_ch3(net, train_iter, test_iter, cross_entropy, num_epochs, updater)"
   ],
   "id": "142136b5b893740c",
   "execution_count": 78,
   "outputs": []
  },
  {
   "metadata": {
    "ExecuteTime": {
     "end_time": "2025-08-06T11:14:02.274521Z",
     "start_time": "2025-08-06T11:14:00.506470Z"
    }
   },
   "cell_type": "code",
   "source": [
    "def predict_ch3(net, test_iter, n=12):  #@save\n",
    "    \"\"\"预测标签（定义见第3章）\"\"\"\n",
    "\n",
    "    for X, y in test_iter:\n",
    "        break\n",
    "    trues = d2l.get_fashion_mnist_labels(y)\n",
    "    preds = d2l.get_fashion_mnist_labels(net(X).argmax(axis=1))\n",
    "    titles = [true +'\\n' + pred for true, pred in zip(trues, preds)]\n",
    "    d2l.show_images(\n",
    "        X[0:n].reshape((n, 28, 28)), 1, n, titles=titles[0:n])\n",
    "\n",
    "predict_ch3(net, test_iter)"
   ],
   "id": "8adc1defc0c0106a",
   "outputs": [
    {
     "data": {
      "text/plain": [
       "<Figure size 1800x150 with 12 Axes>"
      ],
      "image/svg+xml": "<?xml version=\"1.0\" encoding=\"utf-8\" standalone=\"no\"?>\n<!DOCTYPE svg PUBLIC \"-//W3C//DTD SVG 1.1//EN\"\n  \"http://www.w3.org/Graphics/SVG/1.1/DTD/svg11.dtd\">\n<svg xmlns:xlink=\"http://www.w3.org/1999/xlink\" width=\"1018.8pt\" height=\"113.687894pt\" viewBox=\"0 0 1018.8 113.687894\" xmlns=\"http://www.w3.org/2000/svg\" version=\"1.1\">\n <metadata>\n  <rdf:RDF xmlns:dc=\"http://purl.org/dc/elements/1.1/\" xmlns:cc=\"http://creativecommons.org/ns#\" xmlns:rdf=\"http://www.w3.org/1999/02/22-rdf-syntax-ns#\">\n   <cc:Work>\n    <dc:type rdf:resource=\"http://purl.org/dc/dcmitype/StillImage\"/>\n    <dc:date>2025-08-06T19:14:02.200590</dc:date>\n    <dc:format>image/svg+xml</dc:format>\n    <dc:creator>\n     <cc:Agent>\n      <dc:title>Matplotlib v3.7.2, https://matplotlib.org/</dc:title>\n     </cc:Agent>\n    </dc:creator>\n   </cc:Work>\n  </rdf:RDF>\n </metadata>\n <defs>\n  <style type=\"text/css\">*{stroke-linejoin: round; stroke-linecap: butt}</style>\n </defs>\n <g id=\"figure_1\">\n  <g id=\"patch_1\">\n   <path d=\"M 0 113.687894 \nL 1018.8 113.687894 \nL 1018.8 0 \nL 0 0 \nz\n\" style=\"fill: #ffffff\"/>\n  </g>\n  <g id=\"axes_1\">\n   <g id=\"patch_2\">\n    <path d=\"M 7.2 106.487894 \nL 77.932394 106.487894 \nL 77.932394 35.7555 \nL 7.2 35.7555 \nz\n\" style=\"fill: #ffffff\"/>\n   </g>\n   <g clip-path=\"url(#p815125d532)\">\n    <image xlink:href=\"data:image/png;base64,\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\" id=\"imagec2791df48f\" transform=\"scale(1 -1) translate(0 -71.28)\" x=\"7.2\" y=\"-35.207894\" width=\"71.28\" height=\"71.28\"/>\n   </g>\n   <g id=\"patch_3\">\n    <path d=\"M 7.2 106.487894 \nL 7.2 35.7555 \n\" style=\"fill: none; stroke: #000000; stroke-width: 0.8; stroke-linejoin: miter; stroke-linecap: square\"/>\n   </g>\n   <g id=\"patch_4\">\n    <path d=\"M 77.932394 106.487894 \nL 77.932394 35.7555 \n\" style=\"fill: none; stroke: #000000; stroke-width: 0.8; stroke-linejoin: miter; stroke-linecap: square\"/>\n   </g>\n   <g id=\"patch_5\">\n    <path d=\"M 7.2 106.487894 \nL 77.932394 106.487894 \n\" style=\"fill: none; stroke: #000000; stroke-width: 0.8; stroke-linejoin: miter; stroke-linecap: square\"/>\n   </g>\n   <g id=\"patch_6\">\n    <path d=\"M 7.2 35.7555 \nL 77.932394 35.7555 \n\" style=\"fill: none; stroke: #000000; stroke-width: 0.8; stroke-linejoin: miter; stroke-linecap: square\"/>\n   </g>\n   <g id=\"text_1\">\n    <!-- ankle boot -->\n    <g transform=\"translate(10.843072 16.318125) scale(0.12 -0.12)\">\n     <defs>\n      <path id=\"DejaVuSans-61\" d=\"M 2194 1759 \nQ 1497 1759 1228 1600 \nQ 959 1441 959 1056 \nQ 959 750 1161 570 \nQ 1363 391 1709 391 \nQ 2188 391 2477 730 \nQ 2766 1069 2766 1631 \nL 2766 1759 \nL 2194 1759 \nz\nM 3341 1997 \nL 3341 0 \nL 2766 0 \nL 2766 531 \nQ 2569 213 2275 61 \nQ 1981 -91 1556 -91 \nQ 1019 -91 701 211 \nQ 384 513 384 1019 \nQ 384 1609 779 1909 \nQ 1175 2209 1959 2209 \nL 2766 2209 \nL 2766 2266 \nQ 2766 2663 2505 2880 \nQ 2244 3097 1772 3097 \nQ 1472 3097 1187 3025 \nQ 903 2953 641 2809 \nL 641 3341 \nQ 956 3463 1253 3523 \nQ 1550 3584 1831 3584 \nQ 2591 3584 2966 3190 \nQ 3341 2797 3341 1997 \nz\n\" transform=\"scale(0.015625)\"/>\n      <path id=\"DejaVuSans-6e\" d=\"M 3513 2113 \nL 3513 0 \nL 2938 0 \nL 2938 2094 \nQ 2938 2591 2744 2837 \nQ 2550 3084 2163 3084 \nQ 1697 3084 1428 2787 \nQ 1159 2491 1159 1978 \nL 1159 0 \nL 581 0 \nL 581 3500 \nL 1159 3500 \nL 1159 2956 \nQ 1366 3272 1645 3428 \nQ 1925 3584 2291 3584 \nQ 2894 3584 3203 3211 \nQ 3513 2838 3513 2113 \nz\n\" transform=\"scale(0.015625)\"/>\n      <path id=\"DejaVuSans-6b\" d=\"M 581 4863 \nL 1159 4863 \nL 1159 1991 \nL 2875 3500 \nL 3609 3500 \nL 1753 1863 \nL 3688 0 \nL 2938 0 \nL 1159 1709 \nL 1159 0 \nL 581 0 \nL 581 4863 \nz\n\" transform=\"scale(0.015625)\"/>\n      <path id=\"DejaVuSans-6c\" d=\"M 603 4863 \nL 1178 4863 \nL 1178 0 \nL 603 0 \nL 603 4863 \nz\n\" transform=\"scale(0.015625)\"/>\n      <path id=\"DejaVuSans-65\" d=\"M 3597 1894 \nL 3597 1613 \nL 953 1613 \nQ 991 1019 1311 708 \nQ 1631 397 2203 397 \nQ 2534 397 2845 478 \nQ 3156 559 3463 722 \nL 3463 178 \nQ 3153 47 2828 -22 \nQ 2503 -91 2169 -91 \nQ 1331 -91 842 396 \nQ 353 884 353 1716 \nQ 353 2575 817 3079 \nQ 1281 3584 2069 3584 \nQ 2775 3584 3186 3129 \nQ 3597 2675 3597 1894 \nz\nM 3022 2063 \nQ 3016 2534 2758 2815 \nQ 2500 3097 2075 3097 \nQ 1594 3097 1305 2825 \nQ 1016 2553 972 2059 \nL 3022 2063 \nz\n\" transform=\"scale(0.015625)\"/>\n      <path id=\"DejaVuSans-20\" transform=\"scale(0.015625)\"/>\n      <path id=\"DejaVuSans-62\" d=\"M 3116 1747 \nQ 3116 2381 2855 2742 \nQ 2594 3103 2138 3103 \nQ 1681 3103 1420 2742 \nQ 1159 2381 1159 1747 \nQ 1159 1113 1420 752 \nQ 1681 391 2138 391 \nQ 2594 391 2855 752 \nQ 3116 1113 3116 1747 \nz\nM 1159 2969 \nQ 1341 3281 1617 3432 \nQ 1894 3584 2278 3584 \nQ 2916 3584 3314 3078 \nQ 3713 2572 3713 1747 \nQ 3713 922 3314 415 \nQ 2916 -91 2278 -91 \nQ 1894 -91 1617 61 \nQ 1341 213 1159 525 \nL 1159 0 \nL 581 0 \nL 581 4863 \nL 1159 4863 \nL 1159 2969 \nz\n\" transform=\"scale(0.015625)\"/>\n      <path id=\"DejaVuSans-6f\" d=\"M 1959 3097 \nQ 1497 3097 1228 2736 \nQ 959 2375 959 1747 \nQ 959 1119 1226 758 \nQ 1494 397 1959 397 \nQ 2419 397 2687 759 \nQ 2956 1122 2956 1747 \nQ 2956 2369 2687 2733 \nQ 2419 3097 1959 3097 \nz\nM 1959 3584 \nQ 2709 3584 3137 3096 \nQ 3566 2609 3566 1747 \nQ 3566 888 3137 398 \nQ 2709 -91 1959 -91 \nQ 1206 -91 779 398 \nQ 353 888 353 1747 \nQ 353 2609 779 3096 \nQ 1206 3584 1959 3584 \nz\n\" transform=\"scale(0.015625)\"/>\n      <path id=\"DejaVuSans-74\" d=\"M 1172 4494 \nL 1172 3500 \nL 2356 3500 \nL 2356 3053 \nL 1172 3053 \nL 1172 1153 \nQ 1172 725 1289 603 \nQ 1406 481 1766 481 \nL 2356 481 \nL 2356 0 \nL 1766 0 \nQ 1100 0 847 248 \nQ 594 497 594 1153 \nL 594 3053 \nL 172 3053 \nL 172 3500 \nL 594 3500 \nL 594 4494 \nL 1172 4494 \nz\n\" transform=\"scale(0.015625)\"/>\n     </defs>\n     <use xlink:href=\"#DejaVuSans-61\"/>\n     <use xlink:href=\"#DejaVuSans-6e\" x=\"61.279297\"/>\n     <use xlink:href=\"#DejaVuSans-6b\" x=\"124.658203\"/>\n     <use xlink:href=\"#DejaVuSans-6c\" x=\"182.568359\"/>\n     <use xlink:href=\"#DejaVuSans-65\" x=\"210.351562\"/>\n     <use xlink:href=\"#DejaVuSans-20\" x=\"271.875\"/>\n     <use xlink:href=\"#DejaVuSans-62\" x=\"303.662109\"/>\n     <use xlink:href=\"#DejaVuSans-6f\" x=\"367.138672\"/>\n     <use xlink:href=\"#DejaVuSans-6f\" x=\"428.320312\"/>\n     <use xlink:href=\"#DejaVuSans-74\" x=\"489.501953\"/>\n    </g>\n    <!-- ankle boot -->\n    <g transform=\"translate(10.843072 29.7555) scale(0.12 -0.12)\">\n     <use xlink:href=\"#DejaVuSans-61\"/>\n     <use xlink:href=\"#DejaVuSans-6e\" x=\"61.279297\"/>\n     <use xlink:href=\"#DejaVuSans-6b\" x=\"124.658203\"/>\n     <use xlink:href=\"#DejaVuSans-6c\" x=\"182.568359\"/>\n     <use xlink:href=\"#DejaVuSans-65\" x=\"210.351562\"/>\n     <use xlink:href=\"#DejaVuSans-20\" x=\"271.875\"/>\n     <use xlink:href=\"#DejaVuSans-62\" x=\"303.662109\"/>\n     <use xlink:href=\"#DejaVuSans-6f\" x=\"367.138672\"/>\n     <use xlink:href=\"#DejaVuSans-6f\" x=\"428.320312\"/>\n     <use xlink:href=\"#DejaVuSans-74\" x=\"489.501953\"/>\n    </g>\n   </g>\n  </g>\n  <g id=\"axes_2\">\n   <g id=\"patch_7\">\n    <path d=\"M 92.078873 106.487894 \nL 162.811268 106.487894 \nL 162.811268 35.7555 \nL 92.078873 35.7555 \nz\n\" style=\"fill: #ffffff\"/>\n   </g>\n   <g clip-path=\"url(#pa35bc7e9d9)\">\n    <image xlink:href=\"data:image/png;base64,\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\" id=\"image5236d66f11\" transform=\"scale(1 -1) translate(0 -71.28)\" x=\"92.078873\" y=\"-35.207894\" width=\"71.28\" height=\"71.28\"/>\n   </g>\n   <g id=\"patch_8\">\n    <path d=\"M 92.078873 106.487894 \nL 92.078873 35.7555 \n\" style=\"fill: none; stroke: #000000; stroke-width: 0.8; stroke-linejoin: miter; stroke-linecap: square\"/>\n   </g>\n   <g id=\"patch_9\">\n    <path d=\"M 162.811268 106.487894 \nL 162.811268 35.7555 \n\" style=\"fill: none; stroke: #000000; stroke-width: 0.8; stroke-linejoin: miter; stroke-linecap: square\"/>\n   </g>\n   <g id=\"patch_10\">\n    <path d=\"M 92.078873 106.487894 \nL 162.811268 106.487894 \n\" style=\"fill: none; stroke: #000000; stroke-width: 0.8; stroke-linejoin: miter; stroke-linecap: square\"/>\n   </g>\n   <g id=\"patch_11\">\n    <path d=\"M 92.078873 35.7555 \nL 162.811268 35.7555 \n\" style=\"fill: none; stroke: #000000; stroke-width: 0.8; stroke-linejoin: miter; stroke-linecap: square\"/>\n   </g>\n   <g id=\"text_2\">\n    <!-- pullover -->\n    <g transform=\"translate(103.11882 16.318125) scale(0.12 -0.12)\">\n     <defs>\n      <path id=\"DejaVuSans-70\" d=\"M 1159 525 \nL 1159 -1331 \nL 581 -1331 \nL 581 3500 \nL 1159 3500 \nL 1159 2969 \nQ 1341 3281 1617 3432 \nQ 1894 3584 2278 3584 \nQ 2916 3584 3314 3078 \nQ 3713 2572 3713 1747 \nQ 3713 922 3314 415 \nQ 2916 -91 2278 -91 \nQ 1894 -91 1617 61 \nQ 1341 213 1159 525 \nz\nM 3116 1747 \nQ 3116 2381 2855 2742 \nQ 2594 3103 2138 3103 \nQ 1681 3103 1420 2742 \nQ 1159 2381 1159 1747 \nQ 1159 1113 1420 752 \nQ 1681 391 2138 391 \nQ 2594 391 2855 752 \nQ 3116 1113 3116 1747 \nz\n\" transform=\"scale(0.015625)\"/>\n      <path id=\"DejaVuSans-75\" d=\"M 544 1381 \nL 544 3500 \nL 1119 3500 \nL 1119 1403 \nQ 1119 906 1312 657 \nQ 1506 409 1894 409 \nQ 2359 409 2629 706 \nQ 2900 1003 2900 1516 \nL 2900 3500 \nL 3475 3500 \nL 3475 0 \nL 2900 0 \nL 2900 538 \nQ 2691 219 2414 64 \nQ 2138 -91 1772 -91 \nQ 1169 -91 856 284 \nQ 544 659 544 1381 \nz\nM 1991 3584 \nL 1991 3584 \nz\n\" transform=\"scale(0.015625)\"/>\n      <path id=\"DejaVuSans-76\" d=\"M 191 3500 \nL 800 3500 \nL 1894 563 \nL 2988 3500 \nL 3597 3500 \nL 2284 0 \nL 1503 0 \nL 191 3500 \nz\n\" transform=\"scale(0.015625)\"/>\n      <path id=\"DejaVuSans-72\" d=\"M 2631 2963 \nQ 2534 3019 2420 3045 \nQ 2306 3072 2169 3072 \nQ 1681 3072 1420 2755 \nQ 1159 2438 1159 1844 \nL 1159 0 \nL 581 0 \nL 581 3500 \nL 1159 3500 \nL 1159 2956 \nQ 1341 3275 1631 3429 \nQ 1922 3584 2338 3584 \nQ 2397 3584 2469 3576 \nQ 2541 3569 2628 3553 \nL 2631 2963 \nz\n\" transform=\"scale(0.015625)\"/>\n     </defs>\n     <use xlink:href=\"#DejaVuSans-70\"/>\n     <use xlink:href=\"#DejaVuSans-75\" x=\"63.476562\"/>\n     <use xlink:href=\"#DejaVuSans-6c\" x=\"126.855469\"/>\n     <use xlink:href=\"#DejaVuSans-6c\" x=\"154.638672\"/>\n     <use xlink:href=\"#DejaVuSans-6f\" x=\"182.421875\"/>\n     <use xlink:href=\"#DejaVuSans-76\" x=\"243.603516\"/>\n     <use xlink:href=\"#DejaVuSans-65\" x=\"302.783203\"/>\n     <use xlink:href=\"#DejaVuSans-72\" x=\"364.306641\"/>\n    </g>\n    <!-- pullover -->\n    <g transform=\"translate(103.11882 29.7555) scale(0.12 -0.12)\">\n     <use xlink:href=\"#DejaVuSans-70\"/>\n     <use xlink:href=\"#DejaVuSans-75\" x=\"63.476562\"/>\n     <use xlink:href=\"#DejaVuSans-6c\" x=\"126.855469\"/>\n     <use xlink:href=\"#DejaVuSans-6c\" x=\"154.638672\"/>\n     <use xlink:href=\"#DejaVuSans-6f\" x=\"182.421875\"/>\n     <use xlink:href=\"#DejaVuSans-76\" x=\"243.603516\"/>\n     <use xlink:href=\"#DejaVuSans-65\" x=\"302.783203\"/>\n     <use xlink:href=\"#DejaVuSans-72\" x=\"364.306641\"/>\n    </g>\n   </g>\n  </g>\n  <g id=\"axes_3\">\n   <g id=\"patch_12\">\n    <path d=\"M 176.957746 106.487894 \nL 247.690141 106.487894 \nL 247.690141 35.7555 \nL 176.957746 35.7555 \nz\n\" style=\"fill: #ffffff\"/>\n   </g>\n   <g clip-path=\"url(#p3948f8cf7a)\">\n    <image xlink:href=\"data:image/png;base64,\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\" id=\"image6a6fc4da1c\" transform=\"scale(1 -1) translate(0 -71.28)\" x=\"176.957746\" y=\"-35.207894\" width=\"71.28\" height=\"71.28\"/>\n   </g>\n   <g id=\"patch_13\">\n    <path d=\"M 176.957746 106.487894 \nL 176.957746 35.7555 \n\" style=\"fill: none; stroke: #000000; stroke-width: 0.8; stroke-linejoin: miter; stroke-linecap: square\"/>\n   </g>\n   <g id=\"patch_14\">\n    <path d=\"M 247.690141 106.487894 \nL 247.690141 35.7555 \n\" style=\"fill: none; stroke: #000000; stroke-width: 0.8; stroke-linejoin: miter; stroke-linecap: square\"/>\n   </g>\n   <g id=\"patch_15\">\n    <path d=\"M 176.957746 106.487894 \nL 247.690141 106.487894 \n\" style=\"fill: none; stroke: #000000; stroke-width: 0.8; stroke-linejoin: miter; stroke-linecap: square\"/>\n   </g>\n   <g id=\"patch_16\">\n    <path d=\"M 176.957746 35.7555 \nL 247.690141 35.7555 \n\" style=\"fill: none; stroke: #000000; stroke-width: 0.8; stroke-linejoin: miter; stroke-linecap: square\"/>\n   </g>\n   <g id=\"text_3\">\n    <!-- trouser -->\n    <g transform=\"translate(190.882381 16.318125) scale(0.12 -0.12)\">\n     <defs>\n      <path id=\"DejaVuSans-73\" d=\"M 2834 3397 \nL 2834 2853 \nQ 2591 2978 2328 3040 \nQ 2066 3103 1784 3103 \nQ 1356 3103 1142 2972 \nQ 928 2841 928 2578 \nQ 928 2378 1081 2264 \nQ 1234 2150 1697 2047 \nL 1894 2003 \nQ 2506 1872 2764 1633 \nQ 3022 1394 3022 966 \nQ 3022 478 2636 193 \nQ 2250 -91 1575 -91 \nQ 1294 -91 989 -36 \nQ 684 19 347 128 \nL 347 722 \nQ 666 556 975 473 \nQ 1284 391 1588 391 \nQ 1994 391 2212 530 \nQ 2431 669 2431 922 \nQ 2431 1156 2273 1281 \nQ 2116 1406 1581 1522 \nL 1381 1569 \nQ 847 1681 609 1914 \nQ 372 2147 372 2553 \nQ 372 3047 722 3315 \nQ 1072 3584 1716 3584 \nQ 2034 3584 2315 3537 \nQ 2597 3491 2834 3397 \nz\n\" transform=\"scale(0.015625)\"/>\n     </defs>\n     <use xlink:href=\"#DejaVuSans-74\"/>\n     <use xlink:href=\"#DejaVuSans-72\" x=\"39.208984\"/>\n     <use xlink:href=\"#DejaVuSans-6f\" x=\"78.072266\"/>\n     <use xlink:href=\"#DejaVuSans-75\" x=\"139.253906\"/>\n     <use xlink:href=\"#DejaVuSans-73\" x=\"202.632812\"/>\n     <use xlink:href=\"#DejaVuSans-65\" x=\"254.732422\"/>\n     <use xlink:href=\"#DejaVuSans-72\" x=\"316.255859\"/>\n    </g>\n    <!-- trouser -->\n    <g transform=\"translate(190.882381 29.7555) scale(0.12 -0.12)\">\n     <use xlink:href=\"#DejaVuSans-74\"/>\n     <use xlink:href=\"#DejaVuSans-72\" x=\"39.208984\"/>\n     <use xlink:href=\"#DejaVuSans-6f\" x=\"78.072266\"/>\n     <use xlink:href=\"#DejaVuSans-75\" x=\"139.253906\"/>\n     <use xlink:href=\"#DejaVuSans-73\" x=\"202.632812\"/>\n     <use xlink:href=\"#DejaVuSans-65\" x=\"254.732422\"/>\n     <use xlink:href=\"#DejaVuSans-72\" x=\"316.255859\"/>\n    </g>\n   </g>\n  </g>\n  <g id=\"axes_4\">\n   <g id=\"patch_17\">\n    <path d=\"M 261.83662 106.487894 \nL 332.569014 106.487894 \nL 332.569014 35.7555 \nL 261.83662 35.7555 \nz\n\" style=\"fill: #ffffff\"/>\n   </g>\n   <g clip-path=\"url(#p1b17a1db20)\">\n    <image xlink:href=\"data:image/png;base64,\niVBORw0KGgoAAAANSUhEUgAAAGMAAABjCAYAAACPO76VAAAF/0lEQVR4nO2dT28bRRTAd8a7trN24kLipiRxWqK6QKGtSIsEKqi0qqjECaGGA5eqFw5IfAE+Qg9cKw5IwA2BkOBGJQSHgARFqKUEpQmlBUQTJWkcJ/Gftb27KD3Mmzdii6nUnSfxfqc3ee6s3TfvvdnZN7PitDgbO0RwJ8ZRe+u9rJJrXz6CdGMXvu2738X3jybqqud/hEZs979CWr06g2BjEIKNQQjXIcSNNyZRe/7QRSWfL72AdLcv9N/vO8c/UvKJ/ArSvXb8TSXL2SuOTdgzCMHGIASpMBXmcHstbCg5K3v33e9yt6TkP701pNvam1dyadaxCnsGIdgYhGBjEIJUzjh1Ek8t1yOQPaE1/oXM8MOoXc1dg34c3M/WJIxHyCx2YM8gBBuDEKTC1HNDN1B7I4JV24FMp/+Odg+jZl50ldyM8U9ul/sPfw8a9gxCsDEIwcYgBKmc8U29itpTZVhh7cYZ49PJyyNhaQC1PREm9hMNcM5g/gE2BiFIhalydgu1V3tDSh7xto1Pw2qrSZQzQlEMY67jGOHOJVOPwZ5BCTYGIdgYhCCVM0puC7W3IsgLvuz0nTNCD4+xvIBp8J2wgHS7duM8ZRP2DEKwMQhhP0wJocR6D9853y+ZAN9VN2JPydfbY0jXDc07e3uwZxCCjUEINgYh7OcMbU9EEOGv8/lfh5T8ycEPke7rwhklRw0odrvbNqa28wHkiXfnnkc6OVd0qMCeQQg2BiHshymNTy8fQ+2R72Ha+erMOaSTL48oufjxd0i3dhgX7V5rTii5chH/5FgGDhXYMwjBxiAEG4MQpHKGt46XJoKHYKmkNldGuuxjMI7MyenmEZwHfliF7WndCs4nhaX/UBz3gGHPIAQbgxCkwpQ0SqFy63B33ipDyNqhW0wuJHimegu1b25A7e3AJtRQ7ZCtQ5iyXZrAnkEINgYh2BiEsJ4zhAtfoefjqC0iyBMSh3qnMwp7LkxeH8XLI28vv6LkQgdfQzYhZxiXSB32DEKwMQjBxiCE9ZwhS1DcHPq4qqNb1L5ehGN9pgYVHyYVdx21Ox3oJ8zj8ReMwmKKO+dYhT2DEGwMQlgPU9E+OAhSdoyxoUUmt4mXQ+J77KtoxLBleQffh1XcYAgXyuVqthdBAPYMQrAxCMHGIIT1nNEe9ZUc47TgCG06K7tYGeaSY/2Ui/f/xVrHobGtY3sC8ktJGkXQUboLJOwZhGBjEMJ6mIozEEJizzitQGhhwwhhUSE5hJQzucQ7cFHAHWW02gXhGQVuAYep/y1sDEKwMQhhPWd0fW08SHPVFuJ7D2bAd8kUoZQkfHHa6PUy7qcNP9PNJx9sLHM414RBukXR7BmEYGMQwn6Y0qaasonHhnYYjuMv4Tvu2hT8u5VpHHukMcbiFvxMadQxaOeCOY4RptKGPYMQbAxCsDEIYT1neE3IBZFRkOAvQ15wg7jvgula1MZ/iJPf0aHvdo6NLcxpw55BCDYGIayHqdrjMB68Gl5RbYxrbePJ07P7byr5qadvI11R4JqqXWObSt6Qg0gnQvisGDQ2pDWbTpqwZxCCjUEINgYhrOeMWMK8szeOV0kPTC4pWQo8tX1pGApjyy7khB1m2/hQyCfLy0qu7vsJ6T4ItDdjtowpccqwZxCCjUEI+2FKm7GePLCAdDMj8JDoagu/hDfUlnR/blWQLmcszVYL8OqHI/4fSFfaW4dGNnmbQRqwZxCCjUEINgYhrOeMbgW2/rrG/mJPO8PczAMV707iq3vqIa5eOFGcV/JcMI50kZa02tOP4utfgmukAXsGIdgYhLAepsQ6TCePDv6OdL+04aDHWg/fVS+KPYl9LjRGUfuY/5uSb7XhoEnzzn71MN5+NnbJSRX2DEKwMQjBxiCE9ZyRX4PxMFP8FemuduDJ21fbTyDdKf+6kr9oHES6xTo+XHJxaE/iq4Q2luHJX8ny2ZHsGYRgYxBCnBZnrR4R4FZg+rrwFl599Tbh7jhzj+c+ubrxE8ymdoMeZnFhg78CtVqlz64gXdRO92ETewYh2BiEYGM4dPgblqFjqhfxHXUAAAAASUVORK5CYII=\" id=\"image14b3576d8a\" transform=\"scale(1 -1) translate(0 -71.28)\" x=\"261.83662\" y=\"-35.207894\" width=\"71.28\" height=\"71.28\"/>\n   </g>\n   <g id=\"patch_18\">\n    <path d=\"M 261.83662 106.487894 \nL 261.83662 35.7555 \n\" style=\"fill: none; stroke: #000000; stroke-width: 0.8; stroke-linejoin: miter; stroke-linecap: square\"/>\n   </g>\n   <g id=\"patch_19\">\n    <path d=\"M 332.569014 106.487894 \nL 332.569014 35.7555 \n\" style=\"fill: none; stroke: #000000; stroke-width: 0.8; stroke-linejoin: miter; stroke-linecap: square\"/>\n   </g>\n   <g id=\"patch_20\">\n    <path d=\"M 261.83662 106.487894 \nL 332.569014 106.487894 \n\" style=\"fill: none; stroke: #000000; stroke-width: 0.8; stroke-linejoin: miter; stroke-linecap: square\"/>\n   </g>\n   <g id=\"patch_21\">\n    <path d=\"M 261.83662 35.7555 \nL 332.569014 35.7555 \n\" style=\"fill: none; stroke: #000000; stroke-width: 0.8; stroke-linejoin: miter; stroke-linecap: square\"/>\n   </g>\n   <g id=\"text_4\">\n    <!-- trouser -->\n    <g transform=\"translate(275.761254 16.318125) scale(0.12 -0.12)\">\n     <use xlink:href=\"#DejaVuSans-74\"/>\n     <use xlink:href=\"#DejaVuSans-72\" x=\"39.208984\"/>\n     <use xlink:href=\"#DejaVuSans-6f\" x=\"78.072266\"/>\n     <use xlink:href=\"#DejaVuSans-75\" x=\"139.253906\"/>\n     <use xlink:href=\"#DejaVuSans-73\" x=\"202.632812\"/>\n     <use xlink:href=\"#DejaVuSans-65\" x=\"254.732422\"/>\n     <use xlink:href=\"#DejaVuSans-72\" x=\"316.255859\"/>\n    </g>\n    <!-- trouser -->\n    <g transform=\"translate(275.761254 29.7555) scale(0.12 -0.12)\">\n     <use xlink:href=\"#DejaVuSans-74\"/>\n     <use xlink:href=\"#DejaVuSans-72\" x=\"39.208984\"/>\n     <use xlink:href=\"#DejaVuSans-6f\" x=\"78.072266\"/>\n     <use xlink:href=\"#DejaVuSans-75\" x=\"139.253906\"/>\n     <use xlink:href=\"#DejaVuSans-73\" x=\"202.632812\"/>\n     <use xlink:href=\"#DejaVuSans-65\" x=\"254.732422\"/>\n     <use xlink:href=\"#DejaVuSans-72\" x=\"316.255859\"/>\n    </g>\n   </g>\n  </g>\n  <g id=\"axes_5\">\n   <g id=\"patch_22\">\n    <path d=\"M 346.715493 106.487894 \nL 417.447887 106.487894 \nL 417.447887 35.7555 \nL 346.715493 35.7555 \nz\n\" style=\"fill: #ffffff\"/>\n   </g>\n   <g clip-path=\"url(#p36312267f1)\">\n    <image xlink:href=\"data:image/png;base64,\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\" id=\"image44367a8f7f\" transform=\"scale(1 -1) translate(0 -71.28)\" x=\"346.715493\" y=\"-35.207894\" width=\"71.28\" height=\"71.28\"/>\n   </g>\n   <g id=\"patch_23\">\n    <path d=\"M 346.715493 106.487894 \nL 346.715493 35.7555 \n\" style=\"fill: none; stroke: #000000; stroke-width: 0.8; stroke-linejoin: miter; stroke-linecap: square\"/>\n   </g>\n   <g id=\"patch_24\">\n    <path d=\"M 417.447887 106.487894 \nL 417.447887 35.7555 \n\" style=\"fill: none; stroke: #000000; stroke-width: 0.8; stroke-linejoin: miter; stroke-linecap: square\"/>\n   </g>\n   <g id=\"patch_25\">\n    <path d=\"M 346.715493 106.487894 \nL 417.447887 106.487894 \n\" style=\"fill: none; stroke: #000000; stroke-width: 0.8; stroke-linejoin: miter; stroke-linecap: square\"/>\n   </g>\n   <g id=\"patch_26\">\n    <path d=\"M 346.715493 35.7555 \nL 417.447887 35.7555 \n\" style=\"fill: none; stroke: #000000; stroke-width: 0.8; stroke-linejoin: miter; stroke-linecap: square\"/>\n   </g>\n   <g id=\"text_5\">\n    <!-- shirt -->\n    <g transform=\"translate(368.66794 16.318125) scale(0.12 -0.12)\">\n     <defs>\n      <path id=\"DejaVuSans-68\" d=\"M 3513 2113 \nL 3513 0 \nL 2938 0 \nL 2938 2094 \nQ 2938 2591 2744 2837 \nQ 2550 3084 2163 3084 \nQ 1697 3084 1428 2787 \nQ 1159 2491 1159 1978 \nL 1159 0 \nL 581 0 \nL 581 4863 \nL 1159 4863 \nL 1159 2956 \nQ 1366 3272 1645 3428 \nQ 1925 3584 2291 3584 \nQ 2894 3584 3203 3211 \nQ 3513 2838 3513 2113 \nz\n\" transform=\"scale(0.015625)\"/>\n      <path id=\"DejaVuSans-69\" d=\"M 603 3500 \nL 1178 3500 \nL 1178 0 \nL 603 0 \nL 603 3500 \nz\nM 603 4863 \nL 1178 4863 \nL 1178 4134 \nL 603 4134 \nL 603 4863 \nz\n\" transform=\"scale(0.015625)\"/>\n     </defs>\n     <use xlink:href=\"#DejaVuSans-73\"/>\n     <use xlink:href=\"#DejaVuSans-68\" x=\"52.099609\"/>\n     <use xlink:href=\"#DejaVuSans-69\" x=\"115.478516\"/>\n     <use xlink:href=\"#DejaVuSans-72\" x=\"143.261719\"/>\n     <use xlink:href=\"#DejaVuSans-74\" x=\"184.375\"/>\n    </g>\n    <!-- shirt -->\n    <g transform=\"translate(368.66794 29.7555) scale(0.12 -0.12)\">\n     <use xlink:href=\"#DejaVuSans-73\"/>\n     <use xlink:href=\"#DejaVuSans-68\" x=\"52.099609\"/>\n     <use xlink:href=\"#DejaVuSans-69\" x=\"115.478516\"/>\n     <use xlink:href=\"#DejaVuSans-72\" x=\"143.261719\"/>\n     <use xlink:href=\"#DejaVuSans-74\" x=\"184.375\"/>\n    </g>\n   </g>\n  </g>\n  <g id=\"axes_6\">\n   <g id=\"patch_27\">\n    <path d=\"M 431.594366 106.487894 \nL 502.326761 106.487894 \nL 502.326761 35.7555 \nL 431.594366 35.7555 \nz\n\" style=\"fill: #ffffff\"/>\n   </g>\n   <g clip-path=\"url(#pb147efd584)\">\n    <image xlink:href=\"data:image/png;base64,\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\" id=\"image5f45203ad3\" transform=\"scale(1 -1) translate(0 -71.28)\" x=\"431.594366\" y=\"-35.207894\" width=\"71.28\" height=\"71.28\"/>\n   </g>\n   <g id=\"patch_28\">\n    <path d=\"M 431.594366 106.487894 \nL 431.594366 35.7555 \n\" style=\"fill: none; stroke: #000000; stroke-width: 0.8; stroke-linejoin: miter; stroke-linecap: square\"/>\n   </g>\n   <g id=\"patch_29\">\n    <path d=\"M 502.326761 106.487894 \nL 502.326761 35.7555 \n\" style=\"fill: none; stroke: #000000; stroke-width: 0.8; stroke-linejoin: miter; stroke-linecap: square\"/>\n   </g>\n   <g id=\"patch_30\">\n    <path d=\"M 431.594366 106.487894 \nL 502.326761 106.487894 \n\" style=\"fill: none; stroke: #000000; stroke-width: 0.8; stroke-linejoin: miter; stroke-linecap: square\"/>\n   </g>\n   <g id=\"patch_31\">\n    <path d=\"M 431.594366 35.7555 \nL 502.326761 35.7555 \n\" style=\"fill: none; stroke: #000000; stroke-width: 0.8; stroke-linejoin: miter; stroke-linecap: square\"/>\n   </g>\n   <g id=\"text_6\">\n    <!-- trouser -->\n    <g transform=\"translate(445.519001 16.318125) scale(0.12 -0.12)\">\n     <use xlink:href=\"#DejaVuSans-74\"/>\n     <use xlink:href=\"#DejaVuSans-72\" x=\"39.208984\"/>\n     <use xlink:href=\"#DejaVuSans-6f\" x=\"78.072266\"/>\n     <use xlink:href=\"#DejaVuSans-75\" x=\"139.253906\"/>\n     <use xlink:href=\"#DejaVuSans-73\" x=\"202.632812\"/>\n     <use xlink:href=\"#DejaVuSans-65\" x=\"254.732422\"/>\n     <use xlink:href=\"#DejaVuSans-72\" x=\"316.255859\"/>\n    </g>\n    <!-- trouser -->\n    <g transform=\"translate(445.519001 29.7555) scale(0.12 -0.12)\">\n     <use xlink:href=\"#DejaVuSans-74\"/>\n     <use xlink:href=\"#DejaVuSans-72\" x=\"39.208984\"/>\n     <use xlink:href=\"#DejaVuSans-6f\" x=\"78.072266\"/>\n     <use xlink:href=\"#DejaVuSans-75\" x=\"139.253906\"/>\n     <use xlink:href=\"#DejaVuSans-73\" x=\"202.632812\"/>\n     <use xlink:href=\"#DejaVuSans-65\" x=\"254.732422\"/>\n     <use xlink:href=\"#DejaVuSans-72\" x=\"316.255859\"/>\n    </g>\n   </g>\n  </g>\n  <g id=\"axes_7\">\n   <g id=\"patch_32\">\n    <path d=\"M 516.473239 106.487894 \nL 587.205634 106.487894 \nL 587.205634 35.7555 \nL 516.473239 35.7555 \nz\n\" style=\"fill: #ffffff\"/>\n   </g>\n   <g clip-path=\"url(#pf2bb15ba52)\">\n    <image xlink:href=\"data:image/png;base64,\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\" id=\"imagec48a062413\" transform=\"scale(1 -1) translate(0 -71.28)\" x=\"516.473239\" y=\"-35.207894\" width=\"71.28\" height=\"71.28\"/>\n   </g>\n   <g id=\"patch_33\">\n    <path d=\"M 516.473239 106.487894 \nL 516.473239 35.7555 \n\" style=\"fill: none; stroke: #000000; stroke-width: 0.8; stroke-linejoin: miter; stroke-linecap: square\"/>\n   </g>\n   <g id=\"patch_34\">\n    <path d=\"M 587.205634 106.487894 \nL 587.205634 35.7555 \n\" style=\"fill: none; stroke: #000000; stroke-width: 0.8; stroke-linejoin: miter; stroke-linecap: square\"/>\n   </g>\n   <g id=\"patch_35\">\n    <path d=\"M 516.473239 106.487894 \nL 587.205634 106.487894 \n\" style=\"fill: none; stroke: #000000; stroke-width: 0.8; stroke-linejoin: miter; stroke-linecap: square\"/>\n   </g>\n   <g id=\"patch_36\">\n    <path d=\"M 516.473239 35.7555 \nL 587.205634 35.7555 \n\" style=\"fill: none; stroke: #000000; stroke-width: 0.8; stroke-linejoin: miter; stroke-linecap: square\"/>\n   </g>\n   <g id=\"text_7\">\n    <!-- coat -->\n    <g transform=\"translate(538.840062 16.318125) scale(0.12 -0.12)\">\n     <defs>\n      <path id=\"DejaVuSans-63\" d=\"M 3122 3366 \nL 3122 2828 \nQ 2878 2963 2633 3030 \nQ 2388 3097 2138 3097 \nQ 1578 3097 1268 2742 \nQ 959 2388 959 1747 \nQ 959 1106 1268 751 \nQ 1578 397 2138 397 \nQ 2388 397 2633 464 \nQ 2878 531 3122 666 \nL 3122 134 \nQ 2881 22 2623 -34 \nQ 2366 -91 2075 -91 \nQ 1284 -91 818 406 \nQ 353 903 353 1747 \nQ 353 2603 823 3093 \nQ 1294 3584 2113 3584 \nQ 2378 3584 2631 3529 \nQ 2884 3475 3122 3366 \nz\n\" transform=\"scale(0.015625)\"/>\n     </defs>\n     <use xlink:href=\"#DejaVuSans-63\"/>\n     <use xlink:href=\"#DejaVuSans-6f\" x=\"54.980469\"/>\n     <use xlink:href=\"#DejaVuSans-61\" x=\"116.162109\"/>\n     <use xlink:href=\"#DejaVuSans-74\" x=\"177.441406\"/>\n    </g>\n    <!-- coat -->\n    <g transform=\"translate(538.840062 29.7555) scale(0.12 -0.12)\">\n     <use xlink:href=\"#DejaVuSans-63\"/>\n     <use xlink:href=\"#DejaVuSans-6f\" x=\"54.980469\"/>\n     <use xlink:href=\"#DejaVuSans-61\" x=\"116.162109\"/>\n     <use xlink:href=\"#DejaVuSans-74\" x=\"177.441406\"/>\n    </g>\n   </g>\n  </g>\n  <g id=\"axes_8\">\n   <g id=\"patch_37\">\n    <path d=\"M 601.352113 106.487894 \nL 672.084507 106.487894 \nL 672.084507 35.7555 \nL 601.352113 35.7555 \nz\n\" style=\"fill: #ffffff\"/>\n   </g>\n   <g clip-path=\"url(#pac834b3385)\">\n    <image xlink:href=\"data:image/png;base64,\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\" id=\"image775eca59ab\" transform=\"scale(1 -1) translate(0 -71.28)\" x=\"601.352113\" y=\"-35.207894\" width=\"71.28\" height=\"71.28\"/>\n   </g>\n   <g id=\"patch_38\">\n    <path d=\"M 601.352113 106.487894 \nL 601.352113 35.7555 \n\" style=\"fill: none; stroke: #000000; stroke-width: 0.8; stroke-linejoin: miter; stroke-linecap: square\"/>\n   </g>\n   <g id=\"patch_39\">\n    <path d=\"M 672.084507 106.487894 \nL 672.084507 35.7555 \n\" style=\"fill: none; stroke: #000000; stroke-width: 0.8; stroke-linejoin: miter; stroke-linecap: square\"/>\n   </g>\n   <g id=\"patch_40\">\n    <path d=\"M 601.352113 106.487894 \nL 672.084507 106.487894 \n\" style=\"fill: none; stroke: #000000; stroke-width: 0.8; stroke-linejoin: miter; stroke-linecap: square\"/>\n   </g>\n   <g id=\"patch_41\">\n    <path d=\"M 601.352113 35.7555 \nL 672.084507 35.7555 \n\" style=\"fill: none; stroke: #000000; stroke-width: 0.8; stroke-linejoin: miter; stroke-linecap: square\"/>\n   </g>\n   <g id=\"text_8\">\n    <!-- shirt -->\n    <g transform=\"translate(623.30456 16.318125) scale(0.12 -0.12)\">\n     <use xlink:href=\"#DejaVuSans-73\"/>\n     <use xlink:href=\"#DejaVuSans-68\" x=\"52.099609\"/>\n     <use xlink:href=\"#DejaVuSans-69\" x=\"115.478516\"/>\n     <use xlink:href=\"#DejaVuSans-72\" x=\"143.261719\"/>\n     <use xlink:href=\"#DejaVuSans-74\" x=\"184.375\"/>\n    </g>\n    <!-- shirt -->\n    <g transform=\"translate(623.30456 29.7555) scale(0.12 -0.12)\">\n     <use xlink:href=\"#DejaVuSans-73\"/>\n     <use xlink:href=\"#DejaVuSans-68\" x=\"52.099609\"/>\n     <use xlink:href=\"#DejaVuSans-69\" x=\"115.478516\"/>\n     <use xlink:href=\"#DejaVuSans-72\" x=\"143.261719\"/>\n     <use xlink:href=\"#DejaVuSans-74\" x=\"184.375\"/>\n    </g>\n   </g>\n  </g>\n  <g id=\"axes_9\">\n   <g id=\"patch_42\">\n    <path d=\"M 686.230986 106.487894 \nL 756.96338 106.487894 \nL 756.96338 35.7555 \nL 686.230986 35.7555 \nz\n\" style=\"fill: #ffffff\"/>\n   </g>\n   <g clip-path=\"url(#p61633c6ee1)\">\n    <image xlink:href=\"data:image/png;base64,\niVBORw0KGgoAAAANSUhEUgAAAGMAAABjCAYAAACPO76VAAADYklEQVR4nO2csU9TURSH3319YCkqeRUrIIJxEYyJCSoOuJh00BAnJXE2MUYnNxcd/Q+c3BxcjJMuMBhHjRolOiiRNFRRAbEpkJaC7Xumyz3v1DyCiZVf9PdN5/b0vnfbr/fc25u0JmvOhw6BwN3qARCBMoCgDCAoAwjKAIIygKAMICgDCMoAgjKAoAwgKAMIygCCMoCgDCAoAwjKAIIygKAMICgDCMoAgjKAoAwgKAMIygCCMoCgDCAoAwjKAIIygKAMICgDCMoAgjKAoAwgKAMIygCCMoDwEnsy6oFC9oCNVzPaValHfqVsAn2htgVj43JX/K+Zg226o7su/byyib1mR+6HyrW//2bjam7GaQaJzl3SWNf3d1pb4juayPvm6tcUpTa/oNqcGUBQBhCe07FDP1CREpN+p6dm5mXVxibQpejDRc/Gh24tqlxpYLeNK35C5apJmcZBw8wPI0/NN/yRQ2em1cZLK0dUzuRSqt0+K7E/ta5yyZyUu/yFXpUrD1aksaIHZ6oy7tDVYwu9MPbj7u2U+3ff369ynBlAUAYQlAGE+VP/qjPxZdLGo0dPq1z165zTTNzDA6qduynrSZ2xg69t3OGVVe7zmm/jiYfDKpeak7emko7fooZu/FrnNHQLWuSa+x6v6dcRewfy16EMICgDCJN1x9SaYRJS8MJaLb5nqJea2qkhucYN2bvXmZ7usrE/Kd9H6mSeLds4sbikcrPn+mxcGta1/lj/RxvPl/V3pbPdb1V7qE2OSx4Ujqvc89sybv/uU2cr4cwAgjKA0DWjsTQ1lKIoxtNdE09e2biUPqFy/ZfnbTw6oktIz7WijYs1fYzxKLK1HPI/qdz4nRFpnCmo3Mn2KdW+fuWqjVvHX6ic78SXJjeZtHFQiRyNNAnODCAoAwjK+BePQzbC29tj49XBbpWrbpet9HKfXoc630idnrmkh9l7T56bysv2uI75XtT3mJM16xfcyNlFsMFWvhFjNrW2/g6cGUBQxv9Wpsjm4MwAgjKAoAwgKAMIygCCMoCgDCAoAwjKAIIygKAMICgDCMoAgjKAoAwgKAMIygCCMoCgDCAoAwjKAIIygKAMICgDCMoAgjKAoAwgKAMIygCCMoCgDCAoAwjKAIIygKAMICgDCMoAgjIcHH4CTsmo2plGqW4AAAAASUVORK5CYII=\" id=\"imageea17c4178b\" transform=\"scale(1 -1) translate(0 -71.28)\" x=\"686.230986\" y=\"-35.207894\" width=\"71.28\" height=\"71.28\"/>\n   </g>\n   <g id=\"patch_43\">\n    <path d=\"M 686.230986 106.487894 \nL 686.230986 35.7555 \n\" style=\"fill: none; stroke: #000000; stroke-width: 0.8; stroke-linejoin: miter; stroke-linecap: square\"/>\n   </g>\n   <g id=\"patch_44\">\n    <path d=\"M 756.96338 106.487894 \nL 756.96338 35.7555 \n\" style=\"fill: none; stroke: #000000; stroke-width: 0.8; stroke-linejoin: miter; stroke-linecap: square\"/>\n   </g>\n   <g id=\"patch_45\">\n    <path d=\"M 686.230986 106.487894 \nL 756.96338 106.487894 \n\" style=\"fill: none; stroke: #000000; stroke-width: 0.8; stroke-linejoin: miter; stroke-linecap: square\"/>\n   </g>\n   <g id=\"patch_46\">\n    <path d=\"M 686.230986 35.7555 \nL 756.96338 35.7555 \n\" style=\"fill: none; stroke: #000000; stroke-width: 0.8; stroke-linejoin: miter; stroke-linecap: square\"/>\n   </g>\n   <g id=\"text_9\">\n    <!-- sandal -->\n    <g transform=\"translate(701.839371 16.318125) scale(0.12 -0.12)\">\n     <defs>\n      <path id=\"DejaVuSans-64\" d=\"M 2906 2969 \nL 2906 4863 \nL 3481 4863 \nL 3481 0 \nL 2906 0 \nL 2906 525 \nQ 2725 213 2448 61 \nQ 2172 -91 1784 -91 \nQ 1150 -91 751 415 \nQ 353 922 353 1747 \nQ 353 2572 751 3078 \nQ 1150 3584 1784 3584 \nQ 2172 3584 2448 3432 \nQ 2725 3281 2906 2969 \nz\nM 947 1747 \nQ 947 1113 1208 752 \nQ 1469 391 1925 391 \nQ 2381 391 2643 752 \nQ 2906 1113 2906 1747 \nQ 2906 2381 2643 2742 \nQ 2381 3103 1925 3103 \nQ 1469 3103 1208 2742 \nQ 947 2381 947 1747 \nz\n\" transform=\"scale(0.015625)\"/>\n     </defs>\n     <use xlink:href=\"#DejaVuSans-73\"/>\n     <use xlink:href=\"#DejaVuSans-61\" x=\"52.099609\"/>\n     <use xlink:href=\"#DejaVuSans-6e\" x=\"113.378906\"/>\n     <use xlink:href=\"#DejaVuSans-64\" x=\"176.757812\"/>\n     <use xlink:href=\"#DejaVuSans-61\" x=\"240.234375\"/>\n     <use xlink:href=\"#DejaVuSans-6c\" x=\"301.513672\"/>\n    </g>\n    <!-- sandal -->\n    <g transform=\"translate(701.839371 29.7555) scale(0.12 -0.12)\">\n     <use xlink:href=\"#DejaVuSans-73\"/>\n     <use xlink:href=\"#DejaVuSans-61\" x=\"52.099609\"/>\n     <use xlink:href=\"#DejaVuSans-6e\" x=\"113.378906\"/>\n     <use xlink:href=\"#DejaVuSans-64\" x=\"176.757812\"/>\n     <use xlink:href=\"#DejaVuSans-61\" x=\"240.234375\"/>\n     <use xlink:href=\"#DejaVuSans-6c\" x=\"301.513672\"/>\n    </g>\n   </g>\n  </g>\n  <g id=\"axes_10\">\n   <g id=\"patch_47\">\n    <path d=\"M 771.109859 106.487894 \nL 841.842254 106.487894 \nL 841.842254 35.7555 \nL 771.109859 35.7555 \nz\n\" style=\"fill: #ffffff\"/>\n   </g>\n   <g clip-path=\"url(#p3f96371414)\">\n    <image xlink:href=\"data:image/png;base64,\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\" id=\"image8fc18391bc\" transform=\"scale(1 -1) translate(0 -71.28)\" x=\"771.109859\" y=\"-35.207894\" width=\"71.28\" height=\"71.28\"/>\n   </g>\n   <g id=\"patch_48\">\n    <path d=\"M 771.109859 106.487894 \nL 771.109859 35.7555 \n\" style=\"fill: none; stroke: #000000; stroke-width: 0.8; stroke-linejoin: miter; stroke-linecap: square\"/>\n   </g>\n   <g id=\"patch_49\">\n    <path d=\"M 841.842254 106.487894 \nL 841.842254 35.7555 \n\" style=\"fill: none; stroke: #000000; stroke-width: 0.8; stroke-linejoin: miter; stroke-linecap: square\"/>\n   </g>\n   <g id=\"patch_50\">\n    <path d=\"M 771.109859 106.487894 \nL 841.842254 106.487894 \n\" style=\"fill: none; stroke: #000000; stroke-width: 0.8; stroke-linejoin: miter; stroke-linecap: square\"/>\n   </g>\n   <g id=\"patch_51\">\n    <path d=\"M 771.109859 35.7555 \nL 841.842254 35.7555 \n\" style=\"fill: none; stroke: #000000; stroke-width: 0.8; stroke-linejoin: miter; stroke-linecap: square\"/>\n   </g>\n   <g id=\"text_10\">\n    <!-- sneaker -->\n    <g transform=\"translate(782.763869 16.318125) scale(0.12 -0.12)\">\n     <use xlink:href=\"#DejaVuSans-73\"/>\n     <use xlink:href=\"#DejaVuSans-6e\" x=\"52.099609\"/>\n     <use xlink:href=\"#DejaVuSans-65\" x=\"115.478516\"/>\n     <use xlink:href=\"#DejaVuSans-61\" x=\"177.001953\"/>\n     <use xlink:href=\"#DejaVuSans-6b\" x=\"238.28125\"/>\n     <use xlink:href=\"#DejaVuSans-65\" x=\"292.566406\"/>\n     <use xlink:href=\"#DejaVuSans-72\" x=\"354.089844\"/>\n    </g>\n    <!-- sneaker -->\n    <g transform=\"translate(782.763869 29.7555) scale(0.12 -0.12)\">\n     <use xlink:href=\"#DejaVuSans-73\"/>\n     <use xlink:href=\"#DejaVuSans-6e\" x=\"52.099609\"/>\n     <use xlink:href=\"#DejaVuSans-65\" x=\"115.478516\"/>\n     <use xlink:href=\"#DejaVuSans-61\" x=\"177.001953\"/>\n     <use xlink:href=\"#DejaVuSans-6b\" x=\"238.28125\"/>\n     <use xlink:href=\"#DejaVuSans-65\" x=\"292.566406\"/>\n     <use xlink:href=\"#DejaVuSans-72\" x=\"354.089844\"/>\n    </g>\n   </g>\n  </g>\n  <g id=\"axes_11\">\n   <g id=\"patch_52\">\n    <path d=\"M 855.988732 106.487894 \nL 926.721127 106.487894 \nL 926.721127 35.7555 \nL 855.988732 35.7555 \nz\n\" style=\"fill: #ffffff\"/>\n   </g>\n   <g clip-path=\"url(#p21800847d2)\">\n    <image xlink:href=\"data:image/png;base64,\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\" id=\"image0553f8232d\" transform=\"scale(1 -1) translate(0 -71.28)\" x=\"855.988732\" y=\"-35.207894\" width=\"71.28\" height=\"71.28\"/>\n   </g>\n   <g id=\"patch_53\">\n    <path d=\"M 855.988732 106.487894 \nL 855.988732 35.7555 \n\" style=\"fill: none; stroke: #000000; stroke-width: 0.8; stroke-linejoin: miter; stroke-linecap: square\"/>\n   </g>\n   <g id=\"patch_54\">\n    <path d=\"M 926.721127 106.487894 \nL 926.721127 35.7555 \n\" style=\"fill: none; stroke: #000000; stroke-width: 0.8; stroke-linejoin: miter; stroke-linecap: square\"/>\n   </g>\n   <g id=\"patch_55\">\n    <path d=\"M 855.988732 106.487894 \nL 926.721127 106.487894 \n\" style=\"fill: none; stroke: #000000; stroke-width: 0.8; stroke-linejoin: miter; stroke-linecap: square\"/>\n   </g>\n   <g id=\"patch_56\">\n    <path d=\"M 855.988732 35.7555 \nL 926.721127 35.7555 \n\" style=\"fill: none; stroke: #000000; stroke-width: 0.8; stroke-linejoin: miter; stroke-linecap: square\"/>\n   </g>\n   <g id=\"text_11\">\n    <!-- coat -->\n    <g transform=\"translate(878.355555 16.318125) scale(0.12 -0.12)\">\n     <use xlink:href=\"#DejaVuSans-63\"/>\n     <use xlink:href=\"#DejaVuSans-6f\" x=\"54.980469\"/>\n     <use xlink:href=\"#DejaVuSans-61\" x=\"116.162109\"/>\n     <use xlink:href=\"#DejaVuSans-74\" x=\"177.441406\"/>\n    </g>\n    <!-- coat -->\n    <g transform=\"translate(878.355555 29.7555) scale(0.12 -0.12)\">\n     <use xlink:href=\"#DejaVuSans-63\"/>\n     <use xlink:href=\"#DejaVuSans-6f\" x=\"54.980469\"/>\n     <use xlink:href=\"#DejaVuSans-61\" x=\"116.162109\"/>\n     <use xlink:href=\"#DejaVuSans-74\" x=\"177.441406\"/>\n    </g>\n   </g>\n  </g>\n  <g id=\"axes_12\">\n   <g id=\"patch_57\">\n    <path d=\"M 940.867606 106.487894 \nL 1011.6 106.487894 \nL 1011.6 35.7555 \nL 940.867606 35.7555 \nz\n\" style=\"fill: #ffffff\"/>\n   </g>\n   <g clip-path=\"url(#pf2eec7b201)\">\n    <image xlink:href=\"data:image/png;base64,\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\" id=\"imagece2cec519d\" transform=\"scale(1 -1) translate(0 -71.28)\" x=\"940.867606\" y=\"-35.207894\" width=\"71.28\" height=\"71.28\"/>\n   </g>\n   <g id=\"patch_58\">\n    <path d=\"M 940.867606 106.487894 \nL 940.867606 35.7555 \n\" style=\"fill: none; stroke: #000000; stroke-width: 0.8; stroke-linejoin: miter; stroke-linecap: square\"/>\n   </g>\n   <g id=\"patch_59\">\n    <path d=\"M 1011.6 106.487894 \nL 1011.6 35.7555 \n\" style=\"fill: none; stroke: #000000; stroke-width: 0.8; stroke-linejoin: miter; stroke-linecap: square\"/>\n   </g>\n   <g id=\"patch_60\">\n    <path d=\"M 940.867606 106.487894 \nL 1011.6 106.487894 \n\" style=\"fill: none; stroke: #000000; stroke-width: 0.8; stroke-linejoin: miter; stroke-linecap: square\"/>\n   </g>\n   <g id=\"patch_61\">\n    <path d=\"M 940.867606 35.7555 \nL 1011.6 35.7555 \n\" style=\"fill: none; stroke: #000000; stroke-width: 0.8; stroke-linejoin: miter; stroke-linecap: square\"/>\n   </g>\n   <g id=\"text_12\">\n    <!-- sandal -->\n    <g transform=\"translate(956.47599 16.318125) scale(0.12 -0.12)\">\n     <use xlink:href=\"#DejaVuSans-73\"/>\n     <use xlink:href=\"#DejaVuSans-61\" x=\"52.099609\"/>\n     <use xlink:href=\"#DejaVuSans-6e\" x=\"113.378906\"/>\n     <use xlink:href=\"#DejaVuSans-64\" x=\"176.757812\"/>\n     <use xlink:href=\"#DejaVuSans-61\" x=\"240.234375\"/>\n     <use xlink:href=\"#DejaVuSans-6c\" x=\"301.513672\"/>\n    </g>\n    <!-- sandal -->\n    <g transform=\"translate(956.47599 29.7555) scale(0.12 -0.12)\">\n     <use xlink:href=\"#DejaVuSans-73\"/>\n     <use xlink:href=\"#DejaVuSans-61\" x=\"52.099609\"/>\n     <use xlink:href=\"#DejaVuSans-6e\" x=\"113.378906\"/>\n     <use xlink:href=\"#DejaVuSans-64\" x=\"176.757812\"/>\n     <use xlink:href=\"#DejaVuSans-61\" x=\"240.234375\"/>\n     <use xlink:href=\"#DejaVuSans-6c\" x=\"301.513672\"/>\n    </g>\n   </g>\n  </g>\n </g>\n <defs>\n  <clipPath id=\"p815125d532\">\n   <rect x=\"7.2\" y=\"35.7555\" width=\"70.732394\" height=\"70.732394\"/>\n  </clipPath>\n  <clipPath id=\"pa35bc7e9d9\">\n   <rect x=\"92.078873\" y=\"35.7555\" width=\"70.732394\" height=\"70.732394\"/>\n  </clipPath>\n  <clipPath id=\"p3948f8cf7a\">\n   <rect x=\"176.957746\" y=\"35.7555\" width=\"70.732394\" height=\"70.732394\"/>\n  </clipPath>\n  <clipPath id=\"p1b17a1db20\">\n   <rect x=\"261.83662\" y=\"35.7555\" width=\"70.732394\" height=\"70.732394\"/>\n  </clipPath>\n  <clipPath id=\"p36312267f1\">\n   <rect x=\"346.715493\" y=\"35.7555\" width=\"70.732394\" height=\"70.732394\"/>\n  </clipPath>\n  <clipPath id=\"pb147efd584\">\n   <rect x=\"431.594366\" y=\"35.7555\" width=\"70.732394\" height=\"70.732394\"/>\n  </clipPath>\n  <clipPath id=\"pf2bb15ba52\">\n   <rect x=\"516.473239\" y=\"35.7555\" width=\"70.732394\" height=\"70.732394\"/>\n  </clipPath>\n  <clipPath id=\"pac834b3385\">\n   <rect x=\"601.352113\" y=\"35.7555\" width=\"70.732394\" height=\"70.732394\"/>\n  </clipPath>\n  <clipPath id=\"p61633c6ee1\">\n   <rect x=\"686.230986\" y=\"35.7555\" width=\"70.732394\" height=\"70.732394\"/>\n  </clipPath>\n  <clipPath id=\"p3f96371414\">\n   <rect x=\"771.109859\" y=\"35.7555\" width=\"70.732394\" height=\"70.732394\"/>\n  </clipPath>\n  <clipPath id=\"p21800847d2\">\n   <rect x=\"855.988732\" y=\"35.7555\" width=\"70.732394\" height=\"70.732394\"/>\n  </clipPath>\n  <clipPath id=\"pf2eec7b201\">\n   <rect x=\"940.867606\" y=\"35.7555\" width=\"70.732394\" height=\"70.732394\"/>\n  </clipPath>\n </defs>\n</svg>\n"
     },
     "metadata": {},
     "output_type": "display_data"
    }
   ],
   "execution_count": 79
  }
 ],
 "metadata": {
  "kernelspec": {
   "display_name": "Python 3",
   "language": "python",
   "name": "python3"
  },
  "language_info": {
   "codemirror_mode": {
    "name": "ipython",
    "version": 2
   },
   "file_extension": ".py",
   "mimetype": "text/x-python",
   "name": "python",
   "nbconvert_exporter": "python",
   "pygments_lexer": "ipython2",
   "version": "2.7.6"
  }
 },
 "nbformat": 4,
 "nbformat_minor": 5
}
